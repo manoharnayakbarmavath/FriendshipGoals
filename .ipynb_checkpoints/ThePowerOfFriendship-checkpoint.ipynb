{
 "cells": [
  {
   "cell_type": "code",
   "execution_count": 17,
   "metadata": {},
   "outputs": [
    {
     "data": {
      "text/plain": [
       "'1.14.0'"
      ]
     },
     "execution_count": 17,
     "metadata": {},
     "output_type": "execute_result"
    }
   ],
   "source": [
    "# This is the FriendshipGoals CNN\n",
    "import tensorflow as tf\n",
    "from keras.preprocessing.image import ImageDataGenerator\n",
    "tf.__version__"
   ]
  },
  {
   "cell_type": "code",
   "execution_count": 18,
   "metadata": {},
   "outputs": [],
   "source": [
    "# USING GOOGLE IMAGES FOR A DATASET"
   ]
  },
  {
   "cell_type": "code",
   "execution_count": 19,
   "metadata": {},
   "outputs": [
    {
     "name": "stdout",
     "output_type": "stream",
     "text": [
      "Found 126 images belonging to 3 classes.\n"
     ]
    }
   ],
   "source": [
    "# Data Preprocessing\n",
    "# need to apply transformations to test set to correct overfitting\n",
    "# I don't know if Sample_Data is our actual test set tbh there's only 3 images\n",
    "train_datagen = ImageDataGenerator(rescale = 1./255,\n",
    "                                   shear_range = 0.2,\n",
    "                                   zoom_range = 0.2,\n",
    "                                   horizontal_flip = True)\n",
    "training_set = train_datagen.flow_from_directory('Dataset/Training_Data',\n",
    "                                                 target_size = (64, 64),\n",
    "                                                 batch_size = 32,\n",
    "                                                 class_mode = 'categorical')"
   ]
  },
  {
   "cell_type": "code",
   "execution_count": 20,
   "metadata": {},
   "outputs": [
    {
     "name": "stdout",
     "output_type": "stream",
     "text": [
      "Found 314 images belonging to 1 classes.\n"
     ]
    }
   ],
   "source": [
    "# Preprocessing the Test set\n",
    "test_datagen = ImageDataGenerator(rescale = 1./255)\n",
    "# very similar to how in the ANN we used fit_transform on the training set, but just\n",
    "# fit on the test set because we didn't want any information leakage from the training set.\n",
    "# Don't want to mess with the images too much so they're intact like they would be in production\n",
    "test_set = test_datagen.flow_from_directory('Dataset/Testing_Data',\n",
    "                                            target_size = (64, 64),\n",
    "                                            batch_size = 32,\n",
    "                                            class_mode = 'categorical')"
   ]
  },
  {
   "cell_type": "code",
   "execution_count": 21,
   "metadata": {},
   "outputs": [],
   "source": [
    "# building the model\n",
    "cnn = tf.keras.models.Sequential()\n",
    "cnn.add(tf.keras.layers.Conv2D(filters=32, \n",
    "                               kernel_size=3, \n",
    "                               input_shape=[64,64,3], \n",
    "                               activation='relu'))\n",
    "# filters = number of feature detectors\n",
    "# input shape = (64, 64, 3) because we resized pictures to 64x64, and they're RGB\n",
    "# kernel = size of feature detectors (e.g. 3 = 3x3 square)\n",
    "# activation = activation function\n",
    "\n",
    "cnn.add(tf.keras.layers.MaxPool2D(pool_size=2, strides=2))\n",
    "\n",
    "cnn.add(tf.keras.layers.Conv2D(filters=32, \n",
    "                               kernel_size=3, \n",
    "                               activation='relu'))\n",
    "# dont need input shape\n",
    "cnn.add(tf.keras.layers.MaxPool2D(pool_size=2, strides=2))"
   ]
  },
  {
   "cell_type": "code",
   "execution_count": 22,
   "metadata": {},
   "outputs": [],
   "source": [
    "# flattening\n",
    "cnn.add(tf.keras.layers.Flatten())\n",
    "\n",
    "# full connection\n",
    "cnn.add(tf.keras.layers.Dense(units=128, activation='relu'))\n",
    "# output layer\n",
    "cnn.add(tf.keras.layers.Dense(units=3, activation='softmax')) # 3 classes"
   ]
  },
  {
   "cell_type": "code",
   "execution_count": 23,
   "metadata": {},
   "outputs": [],
   "source": [
    "# training the CNN\n",
    "cnn.compile(optimizer='adam', loss='categorical_crossentropy', metrics=['accuracy'])"
   ]
  },
  {
   "cell_type": "code",
   "execution_count": 24,
   "metadata": {},
   "outputs": [
    {
     "name": "stdout",
     "output_type": "stream",
     "text": [
      "Epoch 1/20\n",
      "4/4 [==============================] - 3s 861ms/step - loss: 1.3558 - acc: 0.3413\n",
      "Epoch 2/20\n",
      "4/4 [==============================] - 3s 772ms/step - loss: 1.0978 - acc: 0.3413\n",
      "Epoch 3/20\n",
      "4/4 [==============================] - 3s 769ms/step - loss: 1.0924 - acc: 0.3413\n",
      "Epoch 4/20\n",
      "4/4 [==============================] - 3s 763ms/step - loss: 1.0827 - acc: 0.5397\n",
      "Epoch 5/20\n",
      "4/4 [==============================] - 3s 867ms/step - loss: 1.0625 - acc: 0.5079\n",
      "Epoch 6/20\n",
      "4/4 [==============================] - 4s 1s/step - loss: 1.0262 - acc: 0.5238\n",
      "Epoch 7/20\n",
      "4/4 [==============================] - 5s 1s/step - loss: 0.9722 - acc: 0.5476\n",
      "Epoch 8/20\n",
      "4/4 [==============================] - 4s 982ms/step - loss: 0.9130 - acc: 0.5952\n",
      "Epoch 9/20\n",
      "4/4 [==============================] - 3s 865ms/step - loss: 0.8800 - acc: 0.6190\n",
      "Epoch 10/20\n",
      "4/4 [==============================] - 3s 781ms/step - loss: 0.9005 - acc: 0.5714\n",
      "Epoch 11/20\n",
      "4/4 [==============================] - 3s 712ms/step - loss: 0.8785 - acc: 0.5159\n",
      "Epoch 12/20\n",
      "4/4 [==============================] - 3s 695ms/step - loss: 0.8691 - acc: 0.5635\n",
      "Epoch 13/20\n",
      "4/4 [==============================] - 3s 687ms/step - loss: 0.8231 - acc: 0.5952\n",
      "Epoch 14/20\n",
      "4/4 [==============================] - 3s 679ms/step - loss: 0.7947 - acc: 0.6429\n",
      "Epoch 15/20\n",
      "4/4 [==============================] - 3s 691ms/step - loss: 0.7544 - acc: 0.7063\n",
      "Epoch 16/20\n",
      "4/4 [==============================] - 3s 697ms/step - loss: 0.7197 - acc: 0.6905\n",
      "Epoch 17/20\n",
      "4/4 [==============================] - 3s 677ms/step - loss: 0.6913 - acc: 0.7460\n",
      "Epoch 18/20\n",
      "4/4 [==============================] - 3s 689ms/step - loss: 0.6644 - acc: 0.7222\n",
      "Epoch 19/20\n",
      "4/4 [==============================] - 3s 709ms/step - loss: 0.6204 - acc: 0.7857\n",
      "Epoch 20/20\n",
      "4/4 [==============================] - 3s 718ms/step - loss: 0.5765 - acc: 0.7778\n"
     ]
    },
    {
     "data": {
      "text/plain": [
       "<tensorflow.python.keras.callbacks.History at 0x7fd253a51080>"
      ]
     },
     "execution_count": 24,
     "metadata": {},
     "output_type": "execute_result"
    }
   ],
   "source": [
    "cnn.fit(x=training_set, epochs=20) # validation_data='test_set'"
   ]
  },
  {
   "cell_type": "code",
   "execution_count": 30,
   "metadata": {},
   "outputs": [
    {
     "name": "stdout",
     "output_type": "stream",
     "text": [
      "Teenagers\n"
     ]
    }
   ],
   "source": [
    "# Making a single prediction\n",
    "import numpy as np\n",
    "from keras.preprocessing import image\n",
    "\n",
    "test_image = image.load_img('00000042.jpg', target_size=(64,64))\n",
    "\n",
    "# the predict method expects a 2D array\n",
    "test_image = image.img_to_array(test_image)\n",
    "\n",
    "# the training was done on BATCHES of images, we need to add a dimension corresponding to the\n",
    "# batch. We want the axis we're adding to be the first dimension (axis=0)\n",
    "test_image = np.expand_dims(test_image, axis=0)\n",
    "\n",
    "result = cnn.predict(test_image)\n",
    "training_set.class_indices\n",
    "\n",
    "if result[0][0] == 0:  #first [0] is getting access to the batch, second is first and \n",
    "    prediction= 'Adults' #only element of the batch which is the prediction of the single image\n",
    "elif result[0][0] == 1:\n",
    "    prediction= 'Teenagers'\n",
    "else:\n",
    "    prediction = 'Toddler'\n",
    "    \n",
    "print(prediction)\n",
    "\n",
    "\n",
    "    "
   ]
  },
  {
   "cell_type": "code",
   "execution_count": 33,
   "metadata": {},
   "outputs": [],
   "source": [
    "# putting it into a method\n",
    "def pred(path):\n",
    "    test_image = image.load_img(path, target_size=(64,64))\n",
    "\n",
    "    test_image = image.img_to_array(test_image)\n",
    "\n",
    "    test_image = np.expand_dims(test_image, axis=0)\n",
    "\n",
    "    result = cnn.predict(test_image)\n",
    "    training_set.class_indices\n",
    "\n",
    "    if result[0][0] == 0: \n",
    "        prediction= 'Adults'\n",
    "    elif result[0][0] == 1:\n",
    "        prediction= 'Teenagers'\n",
    "    else:\n",
    "        prediction = 'Toddlers'\n",
    "        \n",
    "    return prediction"
   ]
  },
  {
   "cell_type": "code",
   "execution_count": 36,
   "metadata": {},
   "outputs": [],
   "source": [
    "# Now we have to read the csv file, and loop through all the filenames while filling the \n",
    "# empty second column with our predictions\n",
    "from csv import reader, writer\n",
    "\n",
    "# open file in read mode\n",
    "with open('Dataset/Test.csv', 'r') as csvinput:\n",
    "    with open('Dataset/bmcshaneSubmission.csv', 'w') as csvoutput:\n",
    "        csv_reader = reader(csvinput)\n",
    "        csv_writer = writer(csvoutput, lineterminator='\\n')\n",
    "        \n",
    "        answers = []\n",
    "        row = next(csv_reader)\n",
    "        row.append('Category')\n",
    "        answers.append(row)\n",
    "        \n",
    "        \n",
    "        for row in csv_reader:\n",
    "            guess = pred('Dataset/Testing_Data/Data/' + row[0])\n",
    "            row.append(guess)\n",
    "            \n",
    "            answers.append(row)\n",
    "        \n",
    "        csv_writer.writerows(answers)\n"
   ]
  },
  {
   "cell_type": "code",
   "execution_count": null,
   "metadata": {},
   "outputs": [],
   "source": []
  }
 ],
 "metadata": {
  "kernelspec": {
   "display_name": "firstEnv",
   "language": "python",
   "name": "firstenv"
  },
  "language_info": {
   "codemirror_mode": {
    "name": "ipython",
    "version": 3
   },
   "file_extension": ".py",
   "mimetype": "text/x-python",
   "name": "python",
   "nbconvert_exporter": "python",
   "pygments_lexer": "ipython3",
   "version": "3.6.11"
  }
 },
 "nbformat": 4,
 "nbformat_minor": 4
}
