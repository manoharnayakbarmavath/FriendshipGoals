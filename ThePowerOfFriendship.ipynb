{
 "cells": [
  {
   "cell_type": "code",
   "execution_count": 2,
   "metadata": {},
   "outputs": [
    {
     "data": {
      "text/plain": [
       "'1.13.2'"
      ]
     },
     "execution_count": 2,
     "metadata": {},
     "output_type": "execute_result"
    }
   ],
   "source": [
    "# This is the FriendshipGoals CNN\n",
    "import tensorflow as tf\n",
    "from keras.preprocessing.image import ImageDataGenerator\n",
    "tf.__version__"
   ]
  },
  {
   "cell_type": "code",
   "execution_count": null,
   "metadata": {},
   "outputs": [],
   "source": [
    "# USING GOOGLE IMAGES FOR A DATASET"
   ]
  },
  {
   "cell_type": "code",
   "execution_count": 2,
   "metadata": {},
   "outputs": [
    {
     "name": "stdout",
     "output_type": "stream",
     "text": [
      "Found 317 images belonging to 2 classes.\n"
     ]
    }
   ],
   "source": [
    "# Data Preprocessing\n",
    "# need to apply transformations to test set to correct overfitting\n",
    "# I don't know if Sample_Data is our actual test set tbh there's only 3 images\n",
    "train_datagen = ImageDataGenerator(rescale = 1./255,\n",
    "                                   shear_range = 0.2,\n",
    "                                   zoom_range = 0.2,\n",
    "                                   horizontal_flip = True)\n",
    "training_set = train_datagen.flow_from_directory('Dataset',\n",
    "                                                 target_size = (64, 64),\n",
    "                                                 batch_size = 32,\n",
    "                                                 class_mode = 'categorical')"
   ]
  },
  {
   "cell_type": "code",
   "execution_count": 3,
   "metadata": {},
   "outputs": [
    {
     "name": "stdout",
     "output_type": "stream",
     "text": [
      "Found 0 images belonging to 0 classes.\n"
     ]
    }
   ],
   "source": [
    "# Preprocessing the Test set\n",
    "test_datagen = ImageDataGenerator(rescale = 1./255)\n",
    "# very similar to how in the ANN we used fit_transform on the training set, but just\n",
    "# fit on the test set because we didn't want any information leakage from the training set.\n",
    "# Don't want to mess with the images too much so they're intact like they would be in production\n",
    "test_set = test_datagen.flow_from_directory('Dataset/Test_Data',\n",
    "                                            target_size = (64, 64),\n",
    "                                            batch_size = 32,\n",
    "                                            class_mode = 'categorical')"
   ]
  },
  {
   "cell_type": "code",
   "execution_count": null,
   "metadata": {},
   "outputs": [],
   "source": [
    "# building the model\n",
    "cnn = tf.keras.models.Sequential()\n",
    "cnn.add(tf.keras.layers.Conv2D(filters=32, \n",
    "                               kernel_size=3, \n",
    "                               input_shape=[64,64,3], \n",
    "                               activation='relu'))\n",
    "# filters = number of feature detectors\n",
    "# input shape = (64, 64, 3) because we resized pictures to 64x64, and they're RGB\n",
    "# kernel = size of feature detectors (e.g. 3 = 3x3 square)\n",
    "# activation = activation function\n",
    "\n",
    "cnn.add(tf.keras.layers.MaxPool2D(pool_size=2, strides=2))\n",
    "\n",
    "cnn.add(tf.keras.layers.Conv2D(filters=32, \n",
    "                               kernel_size=3, \n",
    "                               activation='relu'))\n",
    "# dont need input shape\n",
    "cnn.add(tf.keras.layers.MaxPool2D(pool_size=2, strides=2))"
   ]
  },
  {
   "cell_type": "code",
   "execution_count": null,
   "metadata": {},
   "outputs": [],
   "source": [
    "# flattening\n",
    "cnn.add(tf.keras.layers.Flatten())\n",
    "\n",
    "# full connection\n",
    "cnn.add(tf.keras.layers.Dense(units=128, activation='relu'))\n",
    "# output layer\n",
    "cnn.add(tf.keras.layers.Dense(units=3, activation='softmax')) # 3 classes"
   ]
  }
 ],
 "metadata": {
  "kernelspec": {
   "display_name": "firstEnv",
   "language": "python",
   "name": "firstenv"
  },
  "language_info": {
   "codemirror_mode": {
    "name": "ipython",
    "version": 3
   },
   "file_extension": ".py",
   "mimetype": "text/x-python",
   "name": "python",
   "nbconvert_exporter": "python",
   "pygments_lexer": "ipython3",
   "version": "3.6.10"
  }
 },
 "nbformat": 4,
 "nbformat_minor": 4
}
