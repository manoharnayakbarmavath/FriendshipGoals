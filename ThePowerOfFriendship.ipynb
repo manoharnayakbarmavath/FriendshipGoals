{
 "cells": [
  {
   "cell_type": "code",
   "execution_count": 9,
   "metadata": {},
   "outputs": [
    {
     "data": {
      "text/plain": [
       "'1.14.0'"
      ]
     },
     "execution_count": 9,
     "metadata": {},
     "output_type": "execute_result"
    }
   ],
   "source": [
    "# This is the FriendshipGoals CNN\n",
    "import tensorflow as tf\n",
    "from keras.preprocessing.image import ImageDataGenerator\n",
    "tf.__version__"
   ]
  },
  {
   "cell_type": "code",
   "execution_count": 10,
   "metadata": {},
   "outputs": [],
   "source": [
    "# USING GOOGLE IMAGES FOR A DATASET"
   ]
  },
  {
   "cell_type": "code",
   "execution_count": 11,
   "metadata": {},
   "outputs": [
    {
     "name": "stdout",
     "output_type": "stream",
     "text": [
      "Found 124 images belonging to 3 classes.\n"
     ]
    }
   ],
   "source": [
    "# Data Preprocessing\n",
    "# need to apply transformations to test set to correct overfitting\n",
    "# I don't know if Sample_Data is our actual test set tbh there's only 3 images\n",
    "train_datagen = ImageDataGenerator(rescale = 1./255,\n",
    "                                   shear_range = 0.2,\n",
    "                                   zoom_range = 0.2,\n",
    "                                   horizontal_flip = True)\n",
    "training_set = train_datagen.flow_from_directory('Dataset/Training_Data',\n",
    "                                                 target_size = (64, 64),\n",
    "                                                 batch_size = 32,\n",
    "                                                 class_mode = 'categorical')"
   ]
  },
  {
   "cell_type": "code",
   "execution_count": 12,
   "metadata": {},
   "outputs": [
    {
     "name": "stdout",
     "output_type": "stream",
     "text": [
      "Found 314 images belonging to 1 classes.\n"
     ]
    }
   ],
   "source": [
    "# Preprocessing the Test set\n",
    "test_datagen = ImageDataGenerator(rescale = 1./255)\n",
    "# very similar to how in the ANN we used fit_transform on the training set, but just\n",
    "# fit on the test set because we didn't want any information leakage from the training set.\n",
    "# Don't want to mess with the images too much so they're intact like they would be in production\n",
    "test_set = test_datagen.flow_from_directory('Dataset/Testing_Data',\n",
    "                                            target_size = (64, 64),\n",
    "                                            batch_size = 32,\n",
    "                                            class_mode = 'categorical')"
   ]
  },
  {
   "cell_type": "code",
   "execution_count": 13,
   "metadata": {},
   "outputs": [],
   "source": [
    "# building the model\n",
    "cnn = tf.keras.models.Sequential()\n",
    "cnn.add(tf.keras.layers.Conv2D(filters=32, \n",
    "                               kernel_size=3, \n",
    "                               input_shape=[64,64,3], \n",
    "                               activation='relu'))\n",
    "# filters = number of feature detectors\n",
    "# input shape = (64, 64, 3) because we resized pictures to 64x64, and they're RGB\n",
    "# kernel = size of feature detectors (e.g. 3 = 3x3 square)\n",
    "# activation = activation function\n",
    "\n",
    "cnn.add(tf.keras.layers.MaxPool2D(pool_size=2, strides=2))\n",
    "\n",
    "cnn.add(tf.keras.layers.Conv2D(filters=32, \n",
    "                               kernel_size=3, \n",
    "                               activation='relu'))\n",
    "# dont need input shape\n",
    "cnn.add(tf.keras.layers.MaxPool2D(pool_size=2, strides=2))"
   ]
  },
  {
   "cell_type": "code",
   "execution_count": 14,
   "metadata": {},
   "outputs": [],
   "source": [
    "# flattening\n",
    "cnn.add(tf.keras.layers.Flatten())\n",
    "\n",
    "# full connection\n",
    "cnn.add(tf.keras.layers.Dense(units=128, activation='relu'))\n",
    "# output layer\n",
    "cnn.add(tf.keras.layers.Dense(units=3, activation='softmax')) # 3 classes"
   ]
  },
  {
   "cell_type": "code",
   "execution_count": 15,
   "metadata": {},
   "outputs": [],
   "source": [
    "# training the CNN\n",
    "cnn.compile(optimizer='adam', loss='categorical_crossentropy', metrics=['accuracy'])"
   ]
  },
  {
   "cell_type": "code",
   "execution_count": 16,
   "metadata": {},
   "outputs": [
    {
     "name": "stdout",
     "output_type": "stream",
     "text": [
      "Epoch 1/25\n",
      "4/4 [==============================] - 3s 765ms/step - loss: 1.2554 - acc: 0.4274\n",
      "Epoch 2/25\n",
      "4/4 [==============================] - 3s 685ms/step - loss: 1.1313 - acc: 0.3387\n",
      "Epoch 3/25\n",
      "4/4 [==============================] - 3s 685ms/step - loss: 1.0850 - acc: 0.3226\n",
      "Epoch 4/25\n",
      "4/4 [==============================] - 3s 681ms/step - loss: 1.0597 - acc: 0.4355\n",
      "Epoch 5/25\n",
      "4/4 [==============================] - 3s 683ms/step - loss: 1.0301 - acc: 0.6532\n",
      "Epoch 6/25\n",
      "4/4 [==============================] - 3s 689ms/step - loss: 0.9781 - acc: 0.5968\n",
      "Epoch 7/25\n",
      "4/4 [==============================] - 3s 696ms/step - loss: 0.9363 - acc: 0.6210\n",
      "Epoch 8/25\n",
      "4/4 [==============================] - 3s 681ms/step - loss: 0.8608 - acc: 0.5968\n",
      "Epoch 9/25\n",
      "4/4 [==============================] - 3s 684ms/step - loss: 0.8433 - acc: 0.6855\n",
      "Epoch 10/25\n",
      "4/4 [==============================] - 3s 679ms/step - loss: 0.7370 - acc: 0.6774\n",
      "Epoch 11/25\n",
      "4/4 [==============================] - 3s 701ms/step - loss: 0.7677 - acc: 0.5806\n",
      "Epoch 12/25\n",
      "4/4 [==============================] - 3s 671ms/step - loss: 0.6847 - acc: 0.7258\n",
      "Epoch 13/25\n",
      "4/4 [==============================] - 3s 677ms/step - loss: 0.6326 - acc: 0.7258\n",
      "Epoch 14/25\n",
      "4/4 [==============================] - 3s 672ms/step - loss: 0.5625 - acc: 0.8065\n",
      "Epoch 15/25\n",
      "4/4 [==============================] - 3s 680ms/step - loss: 0.5721 - acc: 0.7661\n",
      "Epoch 16/25\n",
      "4/4 [==============================] - 3s 686ms/step - loss: 0.5308 - acc: 0.8145\n",
      "Epoch 17/25\n",
      "4/4 [==============================] - 3s 687ms/step - loss: 0.4712 - acc: 0.7984\n",
      "Epoch 18/25\n",
      "4/4 [==============================] - 3s 692ms/step - loss: 0.4452 - acc: 0.8629\n",
      "Epoch 19/25\n",
      "4/4 [==============================] - 3s 684ms/step - loss: 0.4350 - acc: 0.8145\n",
      "Epoch 20/25\n",
      "4/4 [==============================] - 3s 679ms/step - loss: 0.4058 - acc: 0.8710\n",
      "Epoch 21/25\n",
      "4/4 [==============================] - 3s 686ms/step - loss: 0.3830 - acc: 0.8226\n",
      "Epoch 22/25\n",
      "4/4 [==============================] - 3s 682ms/step - loss: 0.3975 - acc: 0.8468\n",
      "Epoch 23/25\n",
      "4/4 [==============================] - 3s 696ms/step - loss: 0.3142 - acc: 0.8790\n",
      "Epoch 24/25\n",
      "4/4 [==============================] - 3s 699ms/step - loss: 0.3191 - acc: 0.9113\n",
      "Epoch 25/25\n",
      "4/4 [==============================] - 3s 681ms/step - loss: 0.2992 - acc: 0.8710\n"
     ]
    },
    {
     "data": {
      "text/plain": [
       "<tensorflow.python.keras.callbacks.History at 0x7f8c596885f8>"
      ]
     },
     "execution_count": 16,
     "metadata": {},
     "output_type": "execute_result"
    }
   ],
   "source": [
    "cnn.fit(x=training_set, epochs=25) # validation_data='test_set'"
   ]
  },
  {
   "cell_type": "code",
   "execution_count": 17,
   "metadata": {},
   "outputs": [
    {
     "name": "stdout",
     "output_type": "stream",
     "text": [
      "Teenagers\n"
     ]
    }
   ],
   "source": [
    "# Making a single prediction\n",
    "import numpy as np\n",
    "from keras.preprocessing import image\n",
    "\n",
    "test_image = image.load_img('00000042.jpg', target_size=(64,64))\n",
    "\n",
    "# the predict method expects a 2D array\n",
    "test_image = image.img_to_array(test_image)\n",
    "\n",
    "# the training was done on BATCHES of images, we need to add a dimension corresponding to the\n",
    "# batch. We want the axis we're adding to be the first dimension (axis=0)\n",
    "test_image = np.expand_dims(test_image, axis=0)\n",
    "\n",
    "result = cnn.predict(test_image)\n",
    "training_set.class_indices\n",
    "\n",
    "if result[0][0] == 0:  #first [0] is getting access to the batch, second is first and \n",
    "    prediction= 'Adults' #only element of the batch which is the prediction of the single image\n",
    "elif result[0][0] == 1:\n",
    "    prediction= 'Teenagers'\n",
    "else:\n",
    "    prediction = 'Toddler'\n",
    "    \n",
    "print(prediction)\n",
    "\n",
    "\n",
    "    "
   ]
  },
  {
   "cell_type": "code",
   "execution_count": 18,
   "metadata": {},
   "outputs": [],
   "source": [
    "# putting it into a method\n",
    "def pred(path):\n",
    "    test_image = image.load_img(path, target_size=(64,64))\n",
    "\n",
    "    test_image = image.img_to_array(test_image)\n",
    "\n",
    "    test_image = np.expand_dims(test_image, axis=0)\n",
    "\n",
    "    result = cnn.predict(test_image)\n",
    "    training_set.class_indices\n",
    "\n",
    "    if result[0][0] == 0: \n",
    "        prediction= 'Adults'\n",
    "    elif result[0][0] == 1:\n",
    "        prediction= 'Teenagers'\n",
    "    else:\n",
    "        prediction = 'Toddlers'\n",
    "        \n",
    "    return prediction"
   ]
  },
  {
   "cell_type": "code",
   "execution_count": 19,
   "metadata": {},
   "outputs": [],
   "source": [
    "# Now we have to read the csv file, and loop through all the filenames while filling the \n",
    "# empty second column with our predictions\n",
    "from csv import reader, writer\n",
    "\n",
    "# open file in read mode\n",
    "with open('Dataset/Test.csv', 'r') as csvinput:\n",
    "    with open('Dataset/bmcshaneSubmission.csv', 'w') as csvoutput:\n",
    "        csv_reader = reader(csvinput)\n",
    "        csv_writer = writer(csvoutput, lineterminator='\\n')\n",
    "        \n",
    "        answers = []\n",
    "        row = next(csv_reader)\n",
    "        row.append('Category')\n",
    "        answers.append(row)\n",
    "        \n",
    "        \n",
    "        for row in csv_reader:\n",
    "            guess = pred('Dataset/Testing_Data/Data/' + row[0])\n",
    "            row.append(guess)\n",
    "            \n",
    "            answers.append(row)\n",
    "        \n",
    "        csv_writer.writerows(answers)\n"
   ]
  },
  {
   "cell_type": "code",
   "execution_count": null,
   "metadata": {},
   "outputs": [],
   "source": []
  }
 ],
 "metadata": {
  "kernelspec": {
   "display_name": "firstEnv",
   "language": "python",
   "name": "firstenv"
  },
  "language_info": {
   "codemirror_mode": {
    "name": "ipython",
    "version": 3
   },
   "file_extension": ".py",
   "mimetype": "text/x-python",
   "name": "python",
   "nbconvert_exporter": "python",
   "pygments_lexer": "ipython3",
   "version": "3.6.11"
  }
 },
 "nbformat": 4,
 "nbformat_minor": 4
}
